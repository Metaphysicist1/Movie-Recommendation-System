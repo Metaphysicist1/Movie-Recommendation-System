{
 "cells": [
  {
   "cell_type": "code",
   "execution_count": null,
   "metadata": {},
   "outputs": [],
   "source": [
    "!wget https://files.grouplens.org/datasets/movielens/ml-32m.zip"
   ]
  },
  {
   "cell_type": "code",
   "execution_count": 10,
   "metadata": {},
   "outputs": [
    {
     "name": "stdout",
     "output_type": "stream",
     "text": [
      "Archive:  ../Data/ml-32m.zip\n",
      "   creating: ml-32m/\n",
      "  inflating: ml-32m/tags.csv         \n",
      "  inflating: ml-32m/links.csv        \n",
      "  inflating: ml-32m/README.txt       \n",
      "  inflating: ml-32m/checksums.txt    \n",
      "  inflating: ml-32m/ratings.csv      \n",
      "  inflating: ml-32m/movies.csv       \n"
     ]
    }
   ],
   "source": [
    "!unzip ../Data/ml-32m.zip"
   ]
  },
  {
   "cell_type": "markdown",
   "metadata": {},
   "source": []
  },
  {
   "cell_type": "code",
   "execution_count": null,
   "metadata": {},
   "outputs": [],
   "source": []
  }
 ],
 "metadata": {
  "kernelspec": {
   "display_name": "base",
   "language": "python",
   "name": "python3"
  },
  "language_info": {
   "codemirror_mode": {
    "name": "ipython",
    "version": 3
   },
   "file_extension": ".py",
   "mimetype": "text/x-python",
   "name": "python",
   "nbconvert_exporter": "python",
   "pygments_lexer": "ipython3",
   "version": "3.10.12"
  }
 },
 "nbformat": 4,
 "nbformat_minor": 2
}
